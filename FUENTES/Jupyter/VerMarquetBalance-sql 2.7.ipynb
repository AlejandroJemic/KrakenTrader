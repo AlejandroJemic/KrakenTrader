{
 "cells": [
  {
   "cell_type": "code",
   "execution_count": null,
   "metadata": {
    "scrolled": false
   },
   "outputs": [],
   "source": [
    "\"\"\"\n",
    "branch desde VerMarquetBalnce-sql-2.6.ipynb \n",
    "\n",
    "no es continuacion\n",
    "esta vercion no tiene el metodo OpenerCloserEvaluator\n",
    "\n",
    "implemente la clase TradePloter completamante funcional y encapsulada para todos los graficos\n",
    "implementa la clase DBAdapter que encasula los metodos de bbdd\n",
    "\n",
    "este codigo es capas de leer completamentede desde bbdd y presentar los graficos \n",
    "sin realizar ningun calculo de apertura/cierre de posiciones\n",
    "\n",
    "prendiente:\n",
    "    \n",
    "    encapsular calculo de entrada salida en una clase independiente que corra periodicamante online\n",
    "    crear script mail con multitread que ejecute lectura de dados y calculo de operaciones online \n",
    "\"\"\"\n",
    "\n",
    "# imports\n",
    "import numpy as np\n",
    "import pandas as pd\n",
    "import time\n",
    "from datetime import datetime, timedelta\n",
    "import IPython.core.debugger\n",
    "dbg = IPython.core.debugger.Pdb()\n",
    "#dbg.set_trace() #colocar dondo punto interrupcion\n",
    "\n",
    "import matplotlib.pyplot as plt\n",
    "%matplotlib inline\n",
    "\n",
    "start = time.time()\n",
    "\n",
    "comCompra = 0.29  \n",
    "comVenta = 0.19 \n",
    "spreadEntrada = 0.2 \n",
    "spreadSalida = 0.2\n",
    "deltaBaseCH = comCompra + comVenta + spreadEntrada + spreadSalida "
   ]
  },
  {
   "cell_type": "code",
   "execution_count": null,
   "metadata": {},
   "outputs": [],
   "source": [
    "%run \"../Clases/DBAdapter.py\""
   ]
  },
  {
   "cell_type": "code",
   "execution_count": null,
   "metadata": {},
   "outputs": [],
   "source": [
    "dba = DBAdapter()\n",
    "dba.dbMyTradesTable = 'MyTrades'\n",
    "BalanceHistory     = dba.ReadBalanceHistory()\n",
    "tradesCondensation = dba.ReadCondensatedTrades()\n",
    "myTrades           = dba.ReadMyTrades()"
   ]
  },
  {
   "cell_type": "code",
   "execution_count": null,
   "metadata": {},
   "outputs": [],
   "source": [
    "%run \"../Clases/TradePloter.py\""
   ]
  },
  {
   "cell_type": "code",
   "execution_count": null,
   "metadata": {
    "scrolled": false
   },
   "outputs": [],
   "source": [
    "tp = TradePloter(deltaBaseCH, dba.windowTime)\n",
    "tp.plotProfit(myTrades)\n",
    "tp.plotHistory(BalanceHistory, myTrades,tradesCondensation, plotVolume= True, plotTrades=True)\n",
    "tp.plotAllTrades(BalanceHistory, myTrades)\n"
   ]
  },
  {
   "cell_type": "code",
   "execution_count": null,
   "metadata": {},
   "outputs": [],
   "source": [
    "myTrades"
   ]
  },
  {
   "cell_type": "code",
   "execution_count": null,
   "metadata": {
    "scrolled": true
   },
   "outputs": [],
   "source": [
    "done = time.time()\n",
    "elapsed = (done - start)/60\n",
    "print('{0} minutes'.format(round(elapsed,2)))"
   ]
  }
 ],
 "metadata": {
  "kernelspec": {
   "display_name": "Python 3",
   "language": "python",
   "name": "python3"
  },
  "language_info": {
   "codemirror_mode": {
    "name": "ipython",
    "version": 3
   },
   "file_extension": ".py",
   "mimetype": "text/x-python",
   "name": "python",
   "nbconvert_exporter": "python",
   "pygments_lexer": "ipython3",
   "version": "3.6.2"
  }
 },
 "nbformat": 4,
 "nbformat_minor": 2
}
