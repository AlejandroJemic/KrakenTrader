{
 "cells": [
  {
   "cell_type": "code",
   "execution_count": 4,
   "metadata": {},
   "outputs": [],
   "source": [
    "import numpy as np\n",
    "\n",
    "import pandas as pd\n",
    "import matplotlib.pyplot as plt\n",
    "%matplotlib inline"
   ]
  },
  {
   "cell_type": "code",
   "execution_count": 9,
   "metadata": {
    "collapsed": true
   },
   "outputs": [],
   "source": [
    "x = np.linspace(1,25,100)\n",
    "y = []\n",
    "y2 = []\n",
    "y3 = []\n",
    "deltaStopLose = -0.12\n",
    "deltaBaseCH = 1\n",
    "deltaCHObjetivo = 20"
   ]
  },
  {
   "cell_type": "code",
   "execution_count": 10,
   "metadata": {
    "collapsed": true
   },
   "outputs": [],
   "source": [
    "def CalcularTolerancia (maximo):\n",
    "    maximoTolerado = 0\n",
    "    if (maximo < deltaCHObjetivo):\n",
    "        maximoTolerado = deltaStopLose\n",
    "        if (maximo >= deltaStopLose) & (maximo < deltaCHObjetivo *0.25):  maximoTolerado = deltaStopLose    \n",
    "        elif (maximo >= deltaCHObjetivo *0.25) & (maximo < deltaCHObjetivo *0.5): maximoTolerado = deltaStopLose + 1.2\n",
    "        elif (maximo >= deltaCHObjetivo *0.5) & (maximo < deltaCHObjetivo *0.75): maximoTolerado = deltaStopLose + 3.5\n",
    "        elif (maximo >= deltaCHObjetivo *0.75) & (maximo < deltaCHObjetivo): maximoTolerado = deltaStopLose + 5.5                    \n",
    "    else:\n",
    "        if (maximo >= deltaCHObjetivo) & (maximo < deltaCHObjetivo *1.25):        maximoTolerado = deltaCHObjetivo * 0.8\n",
    "        elif (maximo >= deltaCHObjetivo *1.25) & (maximo < deltaCHObjetivo *1.5):  maximoTolerado = deltaCHObjetivo * 1.1\n",
    "        elif (maximo >= deltaCHObjetivo *1.5)  & (maximo < deltaCHObjetivo *1.75): maximoTolerado = deltaCHObjetivo * 1.4      \n",
    "        elif (maximo >= deltaCHObjetivo *1.75) & (maximo < deltaCHObjetivo *2):    maximoTolerado = deltaCHObjetivo * 1.6\n",
    "        elif (maximo >= deltaCHObjetivo *2)    & (maximo < deltaCHObjetivo *2.5):  maximoTolerado = deltaCHObjetivo *1.8\n",
    "        elif (maximo >= deltaCHObjetivo *2.5): maximoTolerado = maximo *0.7\n",
    "    return maximoTolerado"
   ]
  },
  {
   "cell_type": "code",
   "execution_count": 11,
   "metadata": {
    "collapsed": true
   },
   "outputs": [],
   "source": [
    "def CalcularTolerancia2 (maximo):\n",
    "    maximoTolerado = 0\n",
    "    if (maximo < deltaCHObjetivo):\n",
    "        maximoTolerado = deltaBaseCH\n",
    "        if (maximo >= deltaBaseCH) & (maximo < deltaCHObjetivo *0.25):  maximoTolerado = deltaBaseCH    \n",
    "        elif (maximo >=  deltaCHObjetivo *0.25) & (maximo < deltaCHObjetivo *0.5): maximoTolerado = deltaBaseCH + 1.2\n",
    "        elif (maximo >= deltaCHObjetivo *0.5) & (maximo < deltaCHObjetivo *0.75): maximoTolerado = deltaBaseCH + 3.5\n",
    "        elif (maximo >= deltaCHObjetivo *0.75) & (maximo < deltaCHObjetivo): maximoTolerado = deltaBaseCH + 5.5                    \n",
    "    else:\n",
    "        if (maximo >= deltaCHObjetivo) & (maximo < deltaCHObjetivo *1.25):        maximoTolerado = deltaBaseCH + deltaCHObjetivo * 0.8\n",
    "        elif (maximo >= deltaCHObjetivo *1.25) & (maximo < deltaCHObjetivo *1.5):  maximoTolerado = deltaBaseCH + deltaCHObjetivo * 1.1\n",
    "        elif (maximo >= deltaCHObjetivo *1.5)  & (maximo < deltaCHObjetivo *1.75): maximoTolerado = deltaBaseCH + deltaCHObjetivo * 1.4      \n",
    "        elif (maximo >= deltaCHObjetivo *1.75) & (maximo < deltaCHObjetivo *2):    maximoTolerado = deltaBaseCH + deltaCHObjetivo * 1.6\n",
    "        elif (maximo >= deltaCHObjetivo *2)    & (maximo < deltaCHObjetivo *2.5):  maximoTolerado = deltaBaseCH + deltaCHObjetivo *1.8\n",
    "        elif (maximo >= deltaCHObjetivo *2.5): maximoTolerado = deltaBaseCH + maximo -3\n",
    "    return maximoTolerado"
   ]
  },
  {
   "cell_type": "code",
   "execution_count": 12,
   "metadata": {
    "collapsed": true
   },
   "outputs": [],
   "source": [
    "def CalcularTolerancia3 (maximo):\n",
    "    maximoTolerado = 0\n",
    "    if (maximo < 4):\n",
    "        maximoTolerado = deltaBaseCH\n",
    "    else:\n",
    "        maximoTolerado = deltaBaseCH + (maximo-(4))\n",
    "    return maximoTolerado"
   ]
  },
  {
   "cell_type": "code",
   "execution_count": 94,
   "metadata": {},
   "outputs": [
    {
     "data": {
      "image/png": "[encoded data removed]",
      "text/plain": [
       "<matplotlib.figure.Figure at 0x5ad98f0>"
      ]
     },
     "metadata": {},
     "output_type": "display_data"
    }
   ],
   "source": [
    "for n in x:\n",
    "    y.append(CalcularTolerancia(n))\n",
    "\n",
    "for n in x:\n",
    "    y2.append(CalcularTolerancia2(n))\n",
    "\n",
    "for n in x:\n",
    "    y3.append(CalcularTolerancia3(n))\n",
    "              \n",
    "plt.plot(x,y);\n",
    "plt.plot(x,y2);\n",
    "plt.plot(x,y3);"
   ]
  },
  {
   "cell_type": "code",
   "execution_count": 50,
   "metadata": {},
   "outputs": [],
   "source": [
    "c = np.linspace(2,30000,100)"
   ]
  },
  {
   "cell_type": "code",
   "execution_count": 57,
   "metadata": {},
   "outputs": [
    {
     "data": {
      "image/png": "[encoded data removed]",
      "text/plain": [
       "<matplotlib.figure.Figure at 0x96ad048>"
      ]
     },
     "metadata": {},
     "output_type": "display_data"
    }
   ],
   "source": [
    "import math\n",
    "k= []\n",
    "a = np.mean(c)\n",
    "for n in c:\n",
    "    k.append(n/a)\n",
    "    \n",
    "plt.plot(c,k);"
   ]
  },
  {
   "cell_type": "code",
   "execution_count": null,
   "metadata": {
    "collapsed": true
   },
   "outputs": [],
   "source": []
  }
 ],
 "metadata": {
  "kernelspec": {
   "display_name": "Python 3",
   "language": "python",
   "name": "python3"
  },
  "language_info": {
   "codemirror_mode": {
    "name": "ipython",
    "version": 3
   },
   "file_extension": ".py",
   "mimetype": "text/x-python",
   "name": "python",
   "nbconvert_exporter": "python",
   "pygments_lexer": "ipython3",
   "version": "3.6.1"
  }
 },
 "nbformat": 4,
 "nbformat_minor": 2
}
