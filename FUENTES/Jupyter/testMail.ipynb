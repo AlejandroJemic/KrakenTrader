{
 "cells": [
  {
   "cell_type": "code",
   "execution_count": 1,
   "metadata": {
    "collapsed": true
   },
   "outputs": [],
   "source": [
    "%run \"../Clases/Utils.py\""
   ]
  },
  {
   "cell_type": "code",
   "execution_count": 2,
   "metadata": {
    "collapsed": true
   },
   "outputs": [],
   "source": [
    "%run \"../Clases/TradeEvaluator.py\""
   ]
  },
  {
   "cell_type": "code",
   "execution_count": 12,
   "metadata": {
    "collapsed": true
   },
   "outputs": [],
   "source": [
    "T = TradeValues"
   ]
  },
  {
   "cell_type": "code",
   "execution_count": 13,
   "metadata": {
    "scrolled": true
   },
   "outputs": [
    {
     "name": "stdout",
     "output_type": "stream",
     "text": [
      "<!DOCTYPE html>\n",
      "<html>\n",
      "<head>\n",
      "  <style>\n",
      "    body{\n",
      "      font-family: \"calibri\"\n",
      "    }\n",
      "    div{\n",
      "      width: 80%;\n",
      "      margin-left: auto;\n",
      "      margin-right: auto;\n",
      "    }\n",
      "    h3{\n",
      "       font-family: \"calibri\";\n",
      "       font-size: 18px;\n",
      "       padding: 5px;\n",
      "       background: #4286f4;\n",
      "       margin: 0px;\n",
      "       text-align: center;\n",
      "       color: darkblue    }\n",
      "    p{\n",
      "       font-family: \"calibri\";\n",
      "       font-size: 14px;\n",
      "       padding: 10px;\n",
      "       padding-left: 20px;\n",
      "       background: #c2d8fc;\n",
      "       margin: 0px;\n",
      "       color: darkblue;\n",
      "    }\n",
      "    table{\n",
      "      width: 100%;\n",
      "    }\n",
      "    thead{\n",
      "      background: black;\n",
      "      text-align: center;\n",
      "    }\n",
      "    thead td{\n",
      "      color: white;\n",
      "       padding: 6px;\n",
      "      }\n",
      "    tbody td{\n",
      "      width: 100px;\n",
      "      padding: 3px;\n",
      "      padding-left: 15px;\n",
      "      color: darkblue;\n",
      "      background: #cbd0d8;\n",
      "    }\n",
      "  </style>\n",
      "</head>\n",
      "<body>\n",
      "<div>\n",
      "<h3>\n",
      "operacion nula\n",
      "</h3>\n",
      "<p>\n",
      "esta operacion es de prueba y no debe ser considerada\n",
      "</p>\n",
      "<table>\n",
      "  <thead>\n",
      "    <td>Atributo</td>\n",
      "    <td>valor</td>\n",
      "  </thead>\n",
      "  <tbody>\n",
      "    <tr>\n",
      "<td>__module__</td><td>__main__</td>\n",
      "<tr>\n",
      "<tr>\n",
      "<td>__doc__</td><td>\n",
      "    representa los valores de una operacion mientras esta siendo evaluada\n",
      "    </td>\n",
      "<tr>\n",
      "<tr>\n",
      "<td>openPos</td><td>15</td>\n",
      "<tr>\n",
      "<tr>\n",
      "<td>ClosePos</td><td>0</td>\n",
      "<tr>\n",
      "<tr>\n",
      "<td>isOpen</td><td>False</td>\n",
      "<tr>\n",
      "<tr>\n",
      "<td>inBase</td><td>False</td>\n",
      "<tr>\n",
      "<tr>\n",
      "<td>sOpenCond</td><td></td>\n",
      "<tr>\n",
      "<tr>\n",
      "<td>sCloseCond</td><td>IN PROGRESS</td>\n",
      "<tr>\n",
      "<tr>\n",
      "<td>sDesc</td><td></td>\n",
      "<tr>\n",
      "<tr>\n",
      "<td>openingCH</td><td>0.0</td>\n",
      "<tr>\n",
      "<tr>\n",
      "<td>baseCH</td><td>0.0</td>\n",
      "<tr>\n",
      "<tr>\n",
      "<td>targetCH</td><td>0.0</td>\n",
      "<tr>\n",
      "<tr>\n",
      "<td>stopLoseCH</td><td>0.0</td>\n",
      "<tr>\n",
      "<tr>\n",
      "<td>TotalLoseCH</td><td>0.0</td>\n",
      "<tr>\n",
      "<tr>\n",
      "<td>closingCH</td><td>0.0</td>\n",
      "<tr>\n",
      "<tr>\n",
      "<td>deltaCH</td><td>0.0</td>\n",
      "<tr>\n",
      "<tr>\n",
      "<td>idTrade</td><td>0</td>\n",
      "<tr>\n",
      "<tr>\n",
      "<td>openTime</td><td>1900-01-01 00:00:00</td>\n",
      "<tr>\n",
      "<tr>\n",
      "<td>closeTime</td><td>1900-01-01 00:00:00</td>\n",
      "<tr>\n",
      "<tr>\n",
      "<td>maximo</td><td>0.0</td>\n",
      "<tr>\n",
      "<tr>\n",
      "<td>maximoTolerado</td><td>0.0</td>\n",
      "<tr>\n",
      "<tr>\n",
      "<td>OpeningTypeID</td><td>0</td>\n",
      "<tr>\n",
      "<tr>\n",
      "<td>ClosingTypeID</td><td>0</td>\n",
      "<tr>\n",
      "<tr>\n",
      "<td>openingP</td><td>0.0</td>\n",
      "<tr>\n",
      "<tr>\n",
      "<td>baseP</td><td>0.0</td>\n",
      "<tr>\n",
      "<tr>\n",
      "<td>targetP</td><td>0.0</td>\n",
      "<tr>\n",
      "<tr>\n",
      "<td>stopLoseP</td><td>0.0</td>\n",
      "<tr>\n",
      "<tr>\n",
      "<td>TotalLoseP</td><td>0.0</td>\n",
      "<tr>\n",
      "<tr>\n",
      "<td>closingP</td><td>0.0</td>\n",
      "<tr>\n",
      "<tr>\n",
      "<td>deltaP</td><td>0.0</td>\n",
      "<tr>\n",
      "<tr>\n",
      "<td>Profit</td><td>0.0</td>\n",
      "<tr>\n",
      "<tr>\n",
      "<td>Profit_Gastos</td><td>0.0</td>\n",
      "<tr>\n",
      "<tr>\n",
      "<td>__dict__</td><td><attribute '__dict__' of 'TradeValues' objects></td>\n",
      "<tr>\n",
      "<tr>\n",
      "<td>__weakref__</td><td><attribute '__weakref__' of 'TradeValues' objects></td>\n",
      "<tr>\n",
      "\n",
      "  </tbody>\n",
      "</table>\n",
      "<div>\n",
      "</body>\n",
      "</html>\n"
     ]
    }
   ],
   "source": [
    "SendOrderMail(T, 'mail de prueba', 'operacion nula','esta operacion es de prueba y no debe ser considerada')\n"
   ]
  },
  {
   "cell_type": "code",
   "execution_count": 14,
   "metadata": {
    "collapsed": true
   },
   "outputs": [],
   "source": [
    "T.openPos  = 15"
   ]
  },
  {
   "cell_type": "code",
   "execution_count": 20,
   "metadata": {},
   "outputs": [
    {
     "name": "stdout",
     "output_type": "stream",
     "text": [
      "openPos 15\n",
      "ClosePos 0\n",
      "isOpen False\n",
      "inBase False\n",
      "sOpenCond \n",
      "sCloseCond IN PROGRESS\n",
      "sDesc \n",
      "openingCH 0.0\n",
      "baseCH 0.0\n",
      "targetCH 0.0\n",
      "stopLoseCH 0.0\n",
      "TotalLoseCH 0.0\n",
      "closingCH 0.0\n",
      "deltaCH 0.0\n",
      "idTrade 0\n",
      "openTime 1900-01-01 00:00:00\n",
      "closeTime 1900-01-01 00:00:00\n",
      "maximo 0.0\n",
      "maximoTolerado 0.0\n",
      "OpeningTypeID 0\n",
      "ClosingTypeID 0\n",
      "openingP 0.0\n",
      "baseP 0.0\n",
      "targetP 0.0\n",
      "stopLoseP 0.0\n",
      "TotalLoseP 0.0\n",
      "closingP 0.0\n",
      "deltaP 0.0\n",
      "Profit 0.0\n",
      "Profit_Gastos 0.0\n"
     ]
    }
   ],
   "source": [
    "for attr, value in T.__dict__.items():\n",
    "    if not attr.startswith('_'):\n",
    "        print (attr, value)"
   ]
  },
  {
   "cell_type": "code",
   "execution_count": 30,
   "metadata": {},
   "outputs": [
    {
     "data": {
      "text/plain": [
       "'<__main__.TradeValues object at 0x0000000004EC4470>'"
      ]
     },
     "execution_count": 30,
     "metadata": {},
     "output_type": "execute_result"
    }
   ],
   "source": [
    "str(T)"
   ]
  },
  {
   "cell_type": "code",
   "execution_count": null,
   "metadata": {
    "collapsed": true
   },
   "outputs": [],
   "source": []
  },
  {
   "cell_type": "code",
   "execution_count": 40,
   "metadata": {},
   "outputs": [
    {
     "name": "stdout",
     "output_type": "stream",
     "text": [
      "__module__ __main__\n",
      "__doc__ \n",
      "    representa los valores de una operacion mientras esta siendo evaluada\n",
      "    \n",
      "openPos 2\n",
      "ClosePos 2\n",
      "isOpen 2\n",
      "inBase 2\n",
      "sOpenCond 2\n",
      "sCloseCond IN PROGRESS\n",
      "sDesc 2\n",
      "openingCH 2\n",
      "baseCH 2\n",
      "targetCH 2\n",
      "stopLoseCH 2\n",
      "TotalLoseCH 2\n",
      "closingCH 2\n",
      "deltaCH 2\n",
      "idTrade 2\n",
      "openTime 1900-01-01 00:00:00\n",
      "closeTime 1900-01-01 00:00:00\n",
      "maximo 2\n",
      "maximoTolerado 2\n",
      "OpeningTypeID 2\n",
      "ClosingTypeID 2\n",
      "openingP 2\n",
      "baseP 2\n",
      "targetP 2\n",
      "stopLoseP 2\n",
      "TotalLoseP 2\n",
      "closingP 2\n",
      "deltaP 2\n",
      "Profit 2\n",
      "Profit_Gastos 2\n",
      "__dict__ <attribute '__dict__' of 'TradeValues' objects>\n",
      "__weakref__ <attribute '__weakref__' of 'TradeValues' objects>\n"
     ]
    }
   ],
   "source": [
    "for attr, value in  vars(T).items():\n",
    "    print (str(attr or \"1\"), str(value or \"2\"))"
   ]
  },
  {
   "cell_type": "code",
   "execution_count": 35,
   "metadata": {},
   "outputs": [
    {
     "data": {
      "text/plain": [
       "0"
      ]
     },
     "execution_count": 35,
     "metadata": {},
     "output_type": "execute_result"
    }
   ],
   "source": [
    "len( vars(T).items())"
   ]
  },
  {
   "cell_type": "code",
   "execution_count": null,
   "metadata": {
    "collapsed": true
   },
   "outputs": [],
   "source": []
  }
 ],
 "metadata": {
  "kernelspec": {
   "display_name": "Python 3",
   "language": "python",
   "name": "python3"
  },
  "language_info": {
   "codemirror_mode": {
    "name": "ipython",
    "version": 3
   },
   "file_extension": ".py",
   "mimetype": "text/x-python",
   "name": "python",
   "nbconvert_exporter": "python",
   "pygments_lexer": "ipython3",
   "version": "3.6.1"
  }
 },
 "nbformat": 4,
 "nbformat_minor": 2
}
